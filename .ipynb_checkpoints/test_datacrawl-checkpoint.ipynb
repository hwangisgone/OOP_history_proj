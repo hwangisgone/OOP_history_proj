{
 "cells": [
  {
   "cell_type": "code",
   "execution_count": 5,
   "id": "5c0877ab-689b-44e5-9f89-def9ae71feb8",
   "metadata": {
    "tags": []
   },
   "outputs": [
    {
     "name": "stdout",
     "output_type": "stream",
     "text": [
      "{'pageid': 8813, 'ns': 0, 'title': 'Chùa', 'extract': 'Chùa là một công trình kiến trúc phục vụ mục đích tín ngưỡng. Chùa được xây dựng phổ biến ở các nước Nam Á như Ấn Độ, Nepal, Bhutan ,... cùng với một số nước Đông Á và Đông Nam Á như Trung Quốc, Nhật Bản, Việt Nam và thường là nơi thờ Phật. Tại nhiều nơi, chùa có nhiều điểm giống với chùa tháp của Ấn Độ, vốn là nơi cất giữ Xá-lị và chôn cất các vị đại sư, thường có nhiều tháp bao xung quanh. Chùa là nơi tiêu biểu cho Chân như, được nhân cách hóa bằng hình tượng một đức Phật được thờ ngay giữa chùa. Nhiều chùa được thiết kế như một Man-đa-la, gồm một trục ở giữa với các vị Phật ở bốn phương. Cũng có nhiều chùa có nhiều tầng, đại diện cho Ba thế giới (tam giới), các cấp bậc tiêu biểu cho Thập địa của Bồ Tát. Có nhiều chùa được xây tám mặt đại diện cho Pháp luân hoặc Bát chính đạo.Chùa còn là nơi tập trung của các sư, tăng, (hay ni nếu là chùa nữ) sinh hoạt, tu hành, và thuyết giảng đạo Phật. Tại nơi này, mọi người kể cả tín đồ hay người không theo đạo đều có thể đến thăm viếng, nghe giảng kinh hay thực hành các nghi lễ tôn giáo. \"Chùa chiền\" theo Hán-Việt còn có nghĩa là \"tự viện\", là một nơi an trí tượng Phật và là chỗ cứ trú tu hành của các tăng ni. Ngày nay trong thực tế chùa được gọi bằng cả từ Hán-Việt phổ thông như \"Tự\", \"Quán\", \"Am\".'}\n"
     ]
    }
   ],
   "source": [
    "import requests\n",
    "import json\n",
    "\n",
    "subject = 'Chùa'\n",
    "url = 'https://vi.wikipedia.org/w/api.php'\n",
    "params = {\n",
    "        'action': 'query',\n",
    "        'format': 'json',\n",
    "        'titles': subject,\n",
    "        'prop': 'extracts',\n",
    "        'exintro': True,\n",
    "        'explaintext': True,\n",
    "    }\n",
    "\n",
    "response = requests.get(url, params=params)\n",
    "data = response.json()\n",
    "\n",
    "page = next(iter(data['query']['pages'].values()))\n",
    "print(page)"
   ]
  },
  {
   "cell_type": "code",
   "execution_count": 10,
   "id": "fe0afaf7-4a59-4cb7-9e96-77cf52a1029d",
   "metadata": {
    "tags": []
   },
   "outputs": [],
   "source": [
    "import requests\n",
    "import json\n",
    "\n",
    "from IPython.display import Image\n",
    "from IPython.core.display import HTML\n",
    "\n",
    "import pandas as pd"
   ]
  },
  {
   "cell_type": "code",
   "execution_count": 18,
   "id": "0e8adf1f-223b-4cd6-a24f-bd7b26d27e9a",
   "metadata": {
    "tags": []
   },
   "outputs": [],
   "source": [
    "def infobox_dict(url):\n",
    "    response = requests.get(url)\n",
    "    #Tập_tin:Chùa_Lý_Quốc_Sư.JPG\n",
    "    data = response.json()\n",
    "\n",
    "    # text = json.dumps(data, indent=2, ensure_ascii=False)\n",
    "    # print(data['source'])\n",
    "    # Image(url= \"https://commons.wikimedia.org/wiki/Special:FilePath/Chùa Lý Quốc Sư.JPG\", width=400)\n",
    "    # print(\"no\")\n",
    "\n",
    "    revisions = data['source']\n",
    "\n",
    "    start = revisions.find(\"{{\")\n",
    "    end = revisions.find(\"\\n}}\", start)\n",
    "    infobox = revisions[start:end]\n",
    "\n",
    "    # Parse the infobox template into a dictionary\n",
    "    d = {}\n",
    "    for line in infobox.split(\"\\n|\"):\n",
    "        if \"=\" in line:\n",
    "            key, value = line.split(\"=\", 1)\n",
    "            val = value.strip()\n",
    "            if bool(val):\n",
    "                d[key.strip()] = val\n",
    "            # d[key.strip()] = value.strip() #.replace('[','').replace(']','')\n",
    "\n",
    "    import pprint\n",
    "    # Print the resulting dictionary\n",
    "    # pprint.pprint(d)\n",
    "    return d"
   ]
  },
  {
   "cell_type": "code",
   "execution_count": 19,
   "id": "985bc6a0-2588-40a8-b8d8-a9506c86ff9e",
   "metadata": {
    "tags": []
   },
   "outputs": [
    {
     "data": {
      "text/plain": [
       "[{'name': 'Chùa Láng',\n",
       "  'tên khác': 'Pagode des Dames',\n",
       "  'img': 'Cổng chùa Láng, Hà Nội 002.JPG',\n",
       "  'img_size': '250px',\n",
       "  'img_capt': 'Cổng chùa Láng',\n",
       "  'thờ phụng': '[[Từ Đạo Hạnh]]',\n",
       "  'founded': 'thời vua [[Lý Anh Tông]]',\n",
       "  'founder': 'vua [[Lý Anh Tông]]',\n",
       "  'director': '[[Giáo hội Phật giáo Việt Nam]]',\n",
       "  'address': '112 phố Chùa Láng, phường Láng Thượng, quận Đống Đa, [[Hà Nội]]',\n",
       "  'tên tự': 'Chiêu Thiền tự (昭禪寺)',\n",
       "  'country': '{{VNM}}'},\n",
       " {'name': 'Chùa Diên Hựu (延祐寺)\\n<br>Chùa Một Cột<br>Chùa Mật<br>',\n",
       "  'img': 'One Pillar Pagoda Hanoi.jpg',\n",
       "  'img_capt': 'Liên Hoa Đài',\n",
       "  'denomination': 'Giáo hội Phật giáo Việt Nam',\n",
       "  'founded': '1049',\n",
       "  'founder': '[[Lý Thái Tông]] (1000 - 1054)',\n",
       "  'abbot': \"Đại đức '''Thích Tâm Kiên''' (từ 2007)\",\n",
       "  'address': 'phố Chùa Một Cột, phường [[Đội Cấn, Ba Đình|Đội Cấn]], quận [[Ba Đình]], thành phố [[Hà Nội]]',\n",
       "  'country': '{{flag|Việt Nam}}'},\n",
       " {'name': 'Chùa Hà (Thánh Đức tự)',\n",
       "  'img': 'ChuaHa TamQuan.JPG',\n",
       "  'denomination': '[[Giáo hội Phật giáo Việt Nam]]',\n",
       "  'founded': 'Thời vua [[Lý Thánh Tông]]',\n",
       "  'director': '[[Giáo hội Phật giáo Việt Nam]]',\n",
       "  'address': '86 phố Chùa Hà, phường Dịch Vọng, quận Cầu Giấy, thành phố [[Hà Nội]].',\n",
       "  'country': '[[Việt Nam]]'}]"
      ]
     },
     "execution_count": 19,
     "metadata": {},
     "output_type": "execute_result"
    }
   ],
   "source": [
    "list_dict = []\n",
    "list_chua = ['Chùa_Láng', 'Chùa_Một_Cột', 'Chùa_Hà']\n",
    "\n",
    "for loc in list_chua: \n",
    "    list_dict.append(infobox_dict('https://vi.wikipedia.org/w/rest.php/v1/page/' + loc))\n",
    "\n",
    "list_dict"
   ]
  },
  {
   "cell_type": "code",
   "execution_count": 20,
   "id": "cab104f7-ba47-45cb-8320-0d41f3a0ec5e",
   "metadata": {
    "tags": []
   },
   "outputs": [
    {
     "data": {
      "text/html": [
       "<div>\n",
       "<style scoped>\n",
       "    .dataframe tbody tr th:only-of-type {\n",
       "        vertical-align: middle;\n",
       "    }\n",
       "\n",
       "    .dataframe tbody tr th {\n",
       "        vertical-align: top;\n",
       "    }\n",
       "\n",
       "    .dataframe thead th {\n",
       "        text-align: right;\n",
       "    }\n",
       "</style>\n",
       "<table border=\"1\" class=\"dataframe\">\n",
       "  <thead>\n",
       "    <tr style=\"text-align: right;\">\n",
       "      <th></th>\n",
       "      <th>name</th>\n",
       "      <th>tên khác</th>\n",
       "      <th>img</th>\n",
       "      <th>img_size</th>\n",
       "      <th>img_capt</th>\n",
       "      <th>thờ phụng</th>\n",
       "      <th>founded</th>\n",
       "      <th>founder</th>\n",
       "      <th>director</th>\n",
       "      <th>address</th>\n",
       "      <th>tên tự</th>\n",
       "      <th>country</th>\n",
       "      <th>denomination</th>\n",
       "      <th>abbot</th>\n",
       "    </tr>\n",
       "  </thead>\n",
       "  <tbody>\n",
       "    <tr>\n",
       "      <th>0</th>\n",
       "      <td>Chùa Láng</td>\n",
       "      <td>Pagode des Dames</td>\n",
       "      <td>Cổng chùa Láng, Hà Nội 002.JPG</td>\n",
       "      <td>250px</td>\n",
       "      <td>Cổng chùa Láng</td>\n",
       "      <td>[[Từ Đạo Hạnh]]</td>\n",
       "      <td>thời vua [[Lý Anh Tông]]</td>\n",
       "      <td>vua [[Lý Anh Tông]]</td>\n",
       "      <td>[[Giáo hội Phật giáo Việt Nam]]</td>\n",
       "      <td>112 phố Chùa Láng, phường Láng Thượng, quận Đố...</td>\n",
       "      <td>Chiêu Thiền tự (昭禪寺)</td>\n",
       "      <td>{{VNM}}</td>\n",
       "      <td>NaN</td>\n",
       "      <td>NaN</td>\n",
       "    </tr>\n",
       "    <tr>\n",
       "      <th>1</th>\n",
       "      <td>Chùa Diên Hựu (延祐寺)\\n&lt;br&gt;Chùa Một Cột&lt;br&gt;Chùa ...</td>\n",
       "      <td>NaN</td>\n",
       "      <td>One Pillar Pagoda Hanoi.jpg</td>\n",
       "      <td>NaN</td>\n",
       "      <td>Liên Hoa Đài</td>\n",
       "      <td>NaN</td>\n",
       "      <td>1049</td>\n",
       "      <td>[[Lý Thái Tông]] (1000 - 1054)</td>\n",
       "      <td>NaN</td>\n",
       "      <td>phố Chùa Một Cột, phường [[Đội Cấn, Ba Đình|Độ...</td>\n",
       "      <td>NaN</td>\n",
       "      <td>{{flag|Việt Nam}}</td>\n",
       "      <td>Giáo hội Phật giáo Việt Nam</td>\n",
       "      <td>Đại đức '''Thích Tâm Kiên''' (từ 2007)</td>\n",
       "    </tr>\n",
       "    <tr>\n",
       "      <th>2</th>\n",
       "      <td>Chùa Hà (Thánh Đức tự)</td>\n",
       "      <td>NaN</td>\n",
       "      <td>ChuaHa TamQuan.JPG</td>\n",
       "      <td>NaN</td>\n",
       "      <td>NaN</td>\n",
       "      <td>NaN</td>\n",
       "      <td>Thời vua [[Lý Thánh Tông]]</td>\n",
       "      <td>NaN</td>\n",
       "      <td>[[Giáo hội Phật giáo Việt Nam]]</td>\n",
       "      <td>86 phố Chùa Hà, phường Dịch Vọng, quận Cầu Giấ...</td>\n",
       "      <td>NaN</td>\n",
       "      <td>[[Việt Nam]]</td>\n",
       "      <td>[[Giáo hội Phật giáo Việt Nam]]</td>\n",
       "      <td>NaN</td>\n",
       "    </tr>\n",
       "  </tbody>\n",
       "</table>\n",
       "</div>"
      ],
      "text/plain": [
       "                                                name          tên khác   \n",
       "0                                          Chùa Láng  Pagode des Dames  \\\n",
       "1  Chùa Diên Hựu (延祐寺)\\n<br>Chùa Một Cột<br>Chùa ...               NaN   \n",
       "2                             Chùa Hà (Thánh Đức tự)               NaN   \n",
       "\n",
       "                              img img_size        img_capt        thờ phụng   \n",
       "0  Cổng chùa Láng, Hà Nội 002.JPG    250px  Cổng chùa Láng  [[Từ Đạo Hạnh]]  \\\n",
       "1     One Pillar Pagoda Hanoi.jpg      NaN    Liên Hoa Đài              NaN   \n",
       "2              ChuaHa TamQuan.JPG      NaN             NaN              NaN   \n",
       "\n",
       "                      founded                         founder   \n",
       "0    thời vua [[Lý Anh Tông]]             vua [[Lý Anh Tông]]  \\\n",
       "1                        1049  [[Lý Thái Tông]] (1000 - 1054)   \n",
       "2  Thời vua [[Lý Thánh Tông]]                             NaN   \n",
       "\n",
       "                          director   \n",
       "0  [[Giáo hội Phật giáo Việt Nam]]  \\\n",
       "1                              NaN   \n",
       "2  [[Giáo hội Phật giáo Việt Nam]]   \n",
       "\n",
       "                                             address                tên tự   \n",
       "0  112 phố Chùa Láng, phường Láng Thượng, quận Đố...  Chiêu Thiền tự (昭禪寺)  \\\n",
       "1  phố Chùa Một Cột, phường [[Đội Cấn, Ba Đình|Độ...                   NaN   \n",
       "2  86 phố Chùa Hà, phường Dịch Vọng, quận Cầu Giấ...                   NaN   \n",
       "\n",
       "             country                     denomination   \n",
       "0            {{VNM}}                              NaN  \\\n",
       "1  {{flag|Việt Nam}}      Giáo hội Phật giáo Việt Nam   \n",
       "2       [[Việt Nam]]  [[Giáo hội Phật giáo Việt Nam]]   \n",
       "\n",
       "                                    abbot  \n",
       "0                                     NaN  \n",
       "1  Đại đức '''Thích Tâm Kiên''' (từ 2007)  \n",
       "2                                     NaN  "
      ]
     },
     "execution_count": 20,
     "metadata": {},
     "output_type": "execute_result"
    }
   ],
   "source": [
    "new = pd.DataFrame.from_dict(list_dict)\n",
    "new"
   ]
  },
  {
   "cell_type": "code",
   "execution_count": 34,
   "id": "9d5bd819-597e-48aa-adfb-a5eb8756d3da",
   "metadata": {
    "tags": []
   },
   "outputs": [],
   "source": [
    "import requests\n",
    "\n",
    "def recurseCat(S, catset, title, level=0, maxlevel=5):\n",
    "\n",
    "    URL = \"https://vi.wikipedia.org/w/api.php\"\n",
    "    PARAMS = {\n",
    "        \"action\": \"query\",\n",
    "        \"cmtitle\": title,\n",
    "        \"cmlimit\": \"100\",\n",
    "        \"list\": \"categorymembers\",\n",
    "        \"format\": \"json\"\n",
    "    }\n",
    "\n",
    "    #     # GET ALL PAGES\n",
    "    # R = S.get(url=URL, params={**PARAMS, \"cmtype\": \"page\"})\n",
    "    # DATA = R.json()\n",
    "    # PAGES = DATA['query']['categorymembers']\n",
    "    # for page in PAGES:\n",
    "    #     pageset.add(page['title'])\n",
    "    \n",
    "        # RECURSIVE\n",
    "    R = S.get(url=URL, params={**PARAMS, \"cmtype\": \"subcat\"})\n",
    "    DATA = R.json()\n",
    "    # print(DATA)\n",
    "    PAGES = DATA['query']['categorymembers']\n",
    "\n",
    "    index = 1\n",
    "    for page in PAGES:\n",
    "        print(\"- \"*level,index, page['title'])\n",
    "        catset.add(page['title'])\n",
    "        \n",
    "        if (level < maxlevel):\n",
    "            recurseCat(S, catset, page['title'], level+1, maxlevel)\n",
    "        else:\n",
    "            print(\"Max level reached\")\n",
    "        index += 1"
   ]
  },
  {
   "cell_type": "code",
   "execution_count": 35,
   "id": "21d2fde5-1779-4fc4-bcbb-ca5aaf1209b0",
   "metadata": {},
   "outputs": [
    {
     "name": "stdout",
     "output_type": "stream",
     "text": [
      " 1 Thể loại:Tháp Chăm\n"
     ]
    },
    {
     "ename": "NameError",
     "evalue": "name 'pageset' is not defined",
     "output_type": "error",
     "traceback": [
      "\u001b[1;31m---------------------------------------------------------------------------\u001b[0m",
      "\u001b[1;31mNameError\u001b[0m                                 Traceback (most recent call last)",
      "Cell \u001b[1;32mIn[35], line 5\u001b[0m\n\u001b[0;32m      2\u001b[0m S \u001b[38;5;241m=\u001b[39m requests\u001b[38;5;241m.\u001b[39mSession()\n\u001b[0;32m      3\u001b[0m new_set \u001b[38;5;241m=\u001b[39m \u001b[38;5;28mset\u001b[39m()\n\u001b[1;32m----> 5\u001b[0m \u001b[43mrecurseCat\u001b[49m\u001b[43m(\u001b[49m\u001b[43mS\u001b[49m\u001b[43m,\u001b[49m\u001b[43m \u001b[49m\u001b[43mnew_set\u001b[49m\u001b[43m,\u001b[49m\u001b[43m \u001b[49m\u001b[43mtoptitle\u001b[49m\u001b[43m,\u001b[49m\u001b[43mmaxlevel\u001b[49m\u001b[38;5;241;43m=\u001b[39;49m\u001b[38;5;241;43m4\u001b[39;49m\u001b[43m)\u001b[49m\n",
      "Cell \u001b[1;32mIn[34], line 33\u001b[0m, in \u001b[0;36mrecurseCat\u001b[1;34m(S, catset, title, level, maxlevel)\u001b[0m\n\u001b[0;32m     30\u001b[0m catset\u001b[38;5;241m.\u001b[39madd(page[\u001b[38;5;124m'\u001b[39m\u001b[38;5;124mtitle\u001b[39m\u001b[38;5;124m'\u001b[39m])\n\u001b[0;32m     32\u001b[0m \u001b[38;5;28;01mif\u001b[39;00m (level \u001b[38;5;241m<\u001b[39m maxlevel):\n\u001b[1;32m---> 33\u001b[0m     recurseCat(S, \u001b[43mpageset\u001b[49m, page[\u001b[38;5;124m'\u001b[39m\u001b[38;5;124mtitle\u001b[39m\u001b[38;5;124m'\u001b[39m], level\u001b[38;5;241m+\u001b[39m\u001b[38;5;241m1\u001b[39m, maxlevel)\n\u001b[0;32m     34\u001b[0m \u001b[38;5;28;01melse\u001b[39;00m:\n\u001b[0;32m     35\u001b[0m     \u001b[38;5;28mprint\u001b[39m(\u001b[38;5;124m\"\u001b[39m\u001b[38;5;124mMax level reached\u001b[39m\u001b[38;5;124m\"\u001b[39m)\n",
      "\u001b[1;31mNameError\u001b[0m: name 'pageset' is not defined"
     ]
    }
   ],
   "source": [
    "toptitle = \"Thể_loại:Kiến_trúc_cổ_Việt_Nam\"\n",
    "S = requests.Session()\n",
    "new_set = set()\n",
    "\n",
    "recurseCat(S, new_set, toptitle,maxlevel=4)"
   ]
  },
  {
   "cell_type": "code",
   "execution_count": null,
   "id": "2b4a5f81-c268-41a6-8549-7c8af7cfaa4f",
   "metadata": {
    "tags": []
   },
   "outputs": [],
   "source": [
    "new_set"
   ]
  },
  {
   "cell_type": "code",
   "execution_count": null,
   "id": "320a9fc1-5e0b-4191-86a3-125ac9c7f27c",
   "metadata": {},
   "outputs": [],
   "source": []
  }
 ],
 "metadata": {
  "kernelspec": {
   "display_name": "Python 3 (ipykernel)",
   "language": "python",
   "name": "python3"
  },
  "language_info": {
   "codemirror_mode": {
    "name": "ipython",
    "version": 3
   },
   "file_extension": ".py",
   "mimetype": "text/x-python",
   "name": "python",
   "nbconvert_exporter": "python",
   "pygments_lexer": "ipython3",
   "version": "3.11.3"
  }
 },
 "nbformat": 4,
 "nbformat_minor": 5
}
