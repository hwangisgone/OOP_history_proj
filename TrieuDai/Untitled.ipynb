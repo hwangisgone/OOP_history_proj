{
 "cells": [
  {
   "cell_type": "code",
   "execution_count": 1,
   "id": "137cb3ca-24ca-425b-acd1-e755723a3c23",
   "metadata": {
    "tags": []
   },
   "outputs": [],
   "source": [
    "c = [1, 1, 0, 0, 0]\n",
    "A = [\n",
    "    [-1, 1, 1, 0, 0],\n",
    "    [ 1, 0, 0, 1, 0],\n",
    "    [ 0, 1, 0, 0, 1]\n",
    "]\n",
    "b = [2, 4, 4]"
   ]
  },
  {
   "cell_type": "code",
   "execution_count": 2,
   "id": "302a569e-be04-4e2d-ae02-1c12afba9eee",
   "metadata": {
    "tags": []
   },
   "outputs": [],
   "source": [
    "def to_tableau(c, A, b):\n",
    "    xb = [eq + [x] for eq, x in zip(A, b)]\n",
    "    z = c + [0]\n",
    "    return xb + [z]"
   ]
  },
  {
   "cell_type": "code",
   "execution_count": 3,
   "id": "bfa4d15b-2c3d-46a0-bff7-be9bfc855a6d",
   "metadata": {
    "tags": []
   },
   "outputs": [],
   "source": [
    "tableau = to_tableau(c, A, b)"
   ]
  },
  {
   "cell_type": "code",
   "execution_count": 5,
   "id": "a30152af-8c57-4029-b706-d9d0be833a3c",
   "metadata": {
    "tags": []
   },
   "outputs": [],
   "source": [
    "z = tableau[-1]\n",
    "column = next(i for i, x in enumerate(z[:-1]) if x > 0)"
   ]
  },
  {
   "cell_type": "code",
   "execution_count": 6,
   "id": "0832bcee-821f-4178-9d74-98eb025f37a7",
   "metadata": {
    "tags": []
   },
   "outputs": [
    {
     "data": {
      "text/plain": [
       "[1, 1, 0, 0, 0, 0]"
      ]
     },
     "execution_count": 6,
     "metadata": {},
     "output_type": "execute_result"
    }
   ],
   "source": [
    "z"
   ]
  },
  {
   "cell_type": "code",
   "execution_count": 12,
   "id": "11fa5ab2-245f-40ae-a726-bee65682f258",
   "metadata": {
    "tags": []
   },
   "outputs": [
    {
     "data": {
      "text/plain": [
       "0"
      ]
     },
     "execution_count": 12,
     "metadata": {},
     "output_type": "execute_result"
    }
   ],
   "source": [
    "column"
   ]
  },
  {
   "cell_type": "code",
   "execution_count": null,
   "id": "0b948d9a-e48e-4f53-b625-45d481bf4f85",
   "metadata": {},
   "outputs": [],
   "source": []
  }
 ],
 "metadata": {
  "kernelspec": {
   "display_name": "Python 3 (ipykernel)",
   "language": "python",
   "name": "python3"
  },
  "language_info": {
   "codemirror_mode": {
    "name": "ipython",
    "version": 3
   },
   "file_extension": ".py",
   "mimetype": "text/x-python",
   "name": "python",
   "nbconvert_exporter": "python",
   "pygments_lexer": "ipython3",
   "version": "3.11.3"
  }
 },
 "nbformat": 4,
 "nbformat_minor": 5
}
